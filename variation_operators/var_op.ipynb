{
 "cells": [
  {
   "cell_type": "markdown",
   "id": "2a70d0e4-7c6c-4ee9-9be2-3cf0902fa316",
   "metadata": {},
   "source": [
    "# Binary Representation"
   ]
  },
  {
   "cell_type": "code",
   "execution_count": 24,
   "id": "c596f3d8-dc17-46f6-bd93-685f9d5347b9",
   "metadata": {},
   "outputs": [
    {
     "data": {
      "text/plain": [
       "[0, 0, 0, 0, 1, 1, 0]"
      ]
     },
     "execution_count": 24,
     "metadata": {},
     "output_type": "execute_result"
    }
   ],
   "source": [
    "import random\n",
    "\n",
    "def simple_mutation(chromosome, mutation_prob):\n",
    "    mutated_chromosome = []\n",
    "    for bit in chromosome:\n",
    "        if random.random() < mutation_prob:\n",
    "            mutated_chromosome += [0] if bit == 1 else [1]\n",
    "        else:\n",
    "            mutated_chromosome += [bit]\n",
    "    return mutated_chromosome\n",
    "\n",
    "simple_mutation([0,1,1,1,0,0,1], 0.5)"
   ]
  },
  {
   "cell_type": "code",
   "execution_count": 25,
   "id": "cc029879-a18b-49a2-bb5e-b0a1d6a1903f",
   "metadata": {},
   "outputs": [
    {
     "data": {
      "text/plain": [
       "([1, 1, 0, 1, 1, 0, 0], [0, 0, 0, 0, 1, 1, 1])"
      ]
     },
     "execution_count": 25,
     "metadata": {},
     "output_type": "execute_result"
    }
   ],
   "source": [
    "def one_point_crossover(parent1, parent2):\n",
    "    assert len(parent1) == len(parent2)\n",
    "    crossover_point = random.randint(1, len(parent1) - 1)\n",
    "    child1 = parent1[:crossover_point] + parent2[crossover_point:]\n",
    "    child2 = parent2[:crossover_point] + parent1[crossover_point:]\n",
    "    return child1, child2\n",
    "\n",
    "one_point_crossover([1,1,0,0,1,1,1], [0,0,0,1,1,0,0])"
   ]
  },
  {
   "cell_type": "code",
   "execution_count": 26,
   "id": "d78d9f64-a966-434a-8250-4cd415e8da80",
   "metadata": {},
   "outputs": [
    {
     "data": {
      "text/plain": [
       "([0, 1, 0, 1, 1, 1, 0], [1, 0, 0, 0, 1, 0, 1])"
      ]
     },
     "execution_count": 26,
     "metadata": {},
     "output_type": "execute_result"
    }
   ],
   "source": [
    "def uniform_crossover(parent1, parent2):\n",
    "    assert len(parent1) == len(parent2)\n",
    "    child1, child2 = [], []\n",
    "    for i in range(len(parent1)):\n",
    "        if random.random() < 0.5:\n",
    "            child1 += [parent1[i]]\n",
    "            child2 += [parent2[i]]\n",
    "        else:\n",
    "            child1 += [parent2[i]]\n",
    "            child2 += [parent1[i]]\n",
    "    return child1, child2\n",
    "\n",
    "uniform_crossover([1,1,0,0,1,1,1], [0,0,0,1,1,0,0])"
   ]
  },
  {
   "cell_type": "markdown",
   "id": "d15331c8-3eb5-49a0-8643-4f6711c86ebe",
   "metadata": {},
   "source": [
    "# Integer Representation"
   ]
  },
  {
   "cell_type": "code",
   "execution_count": 27,
   "id": "31571b09-3d22-4ef7-acf8-34b2e5f3ff7a",
   "metadata": {},
   "outputs": [
    {
     "data": {
      "text/plain": [
       "([1, 2, 3, 4, 50, 60, 70, 80], [10, 20, 30, 40, 5, 6, 7, 8])"
      ]
     },
     "execution_count": 27,
     "metadata": {},
     "output_type": "execute_result"
    }
   ],
   "source": [
    "def n_point_crossover(parent1, parent2, n=2):\n",
    "    assert len(parent1) == len(parent2)\n",
    "    points = sorted(random.sample(range(1, len(parent1)), n))\n",
    "    children = [parent1, parent2]\n",
    "    for i in range(n):\n",
    "        if i % 2 == 0:\n",
    "            children = [children[0][:points[i]] + children[1][points[i]:],\n",
    "                        children[1][:points[i]] + children[0][points[i]:]]\n",
    "    return tuple(children)\n",
    "\n",
    "n_point_crossover([1,2,3,4,5,6,7,8], [10,20,30,40,50,60,70,80])"
   ]
  },
  {
   "cell_type": "code",
   "execution_count": 28,
   "id": "c5593b90-b042-4849-aa7d-293e91122182",
   "metadata": {},
   "outputs": [
    {
     "data": {
      "text/plain": [
       "[1, 2, 3, 4, 5, 7, 7]"
      ]
     },
     "execution_count": 28,
     "metadata": {},
     "output_type": "execute_result"
    }
   ],
   "source": [
    "def creep_mutation(chromosome, creep_rate=1):\n",
    "    index = random.randint(0, len(chromosome) - 1)\n",
    "    chromosome[index] += random.choice([-1, 1]) * creep_rate\n",
    "    return chromosome\n",
    "\n",
    "creep_mutation([1,2,3,4,5,6,7])"
   ]
  },
  {
   "cell_type": "code",
   "execution_count": 32,
   "id": "8256caee-7c03-418b-b8cb-da4a8903d7cf",
   "metadata": {},
   "outputs": [
    {
     "data": {
      "text/plain": [
       "[1, 14, 3, 4, 5, 6, 7, 8]"
      ]
     },
     "execution_count": 32,
     "metadata": {},
     "output_type": "execute_result"
    }
   ],
   "source": [
    "def random_resetting(chromosome, new_value_range):\n",
    "    index = random.randint(0, len(chromosome) - 1)\n",
    "    chromosome[index] = random.randint(*new_value_range)\n",
    "    return chromosome\n",
    "\n",
    "random_resetting([1,2,3,4,5,6,7,8], [10,20])"
   ]
  },
  {
   "cell_type": "markdown",
   "id": "381cfd62-2dcb-47a7-b947-9430b2f9e2ca",
   "metadata": {},
   "source": [
    "# Floating Point Representation"
   ]
  },
  {
   "cell_type": "code",
   "execution_count": 33,
   "id": "b832ae4e-8465-4c04-9aad-4b9d9663a138",
   "metadata": {},
   "outputs": [
    {
     "data": {
      "text/plain": [
       "[2.95, 3.9, 5.050000000000001]"
      ]
     },
     "execution_count": 33,
     "metadata": {},
     "output_type": "execute_result"
    }
   ],
   "source": [
    "def simple_arithmetic_crossover(parent1, parent2, alpha=0.5):\n",
    "    return [alpha * x + (1 - alpha) * y for x, y in zip(parent1, parent2)]\n",
    "\n",
    "simple_arithmetic_crossover([1.5,2.7,3.2], [4.4,5.1,6.9])"
   ]
  },
  {
   "cell_type": "code",
   "execution_count": null,
   "id": "918e22b4-9970-48f1-ae7b-b64675329c7b",
   "metadata": {},
   "outputs": [],
   "source": [
    "def whole_arithmetic_crossover(parent1, parent2, alpha=0.5):\n",
    "    child1 = [alpha * x + (1 - alpha) * y for x, y in zip(parent1, parent2)]\n",
    "    child2 = [alpha * y + (1 - alpha) * x for x, y in zip(parent1, parent2)]\n",
    "    return child1, child2\n",
    "\n",
    "simple_arithmetic_crossover([1.5,2.7,3.2], [4.4,5.1,6.9])"
   ]
  },
  {
   "cell_type": "code",
   "execution_count": 36,
   "id": "2cf4a202-1dd5-4e08-9ee0-22928390a95d",
   "metadata": {},
   "outputs": [
    {
     "data": {
      "text/plain": [
       "[5.354911473512937, 12.508344651923858, 65.15092845077551]"
      ]
     },
     "execution_count": 36,
     "metadata": {},
     "output_type": "execute_result"
    }
   ],
   "source": [
    "def uncorrelated_mutation_one_alpha(chromosome, alpha):\n",
    "    return [gene * (1 + alpha * random.normalvariate(0, 1)) for gene in chromosome]\n",
    "\n",
    "uncorrelated_mutation_one_alpha([1.5,2.7,3.2], 10)"
   ]
  },
  {
   "cell_type": "code",
   "execution_count": 40,
   "id": "8cfd0e7d-9292-44aa-a3fa-9e1ba6c18cca",
   "metadata": {},
   "outputs": [
    {
     "data": {
      "text/plain": [
       "[-2.420207624037962, 27.97841974949108, 50.427309207121766]"
      ]
     },
     "execution_count": 40,
     "metadata": {},
     "output_type": "execute_result"
    }
   ],
   "source": [
    "def uncorrelated_mutation_n_alphas(chromosome, alphas):\n",
    "    return [gene * (1 + alpha * random.normalvariate(0, 1)) for gene, alpha in zip(chromosome, alphas)]\n",
    "\n",
    "uncorrelated_mutation_n_alphas([1.5,2.7,3.2], [10, 20, 30])"
   ]
  }
 ],
 "metadata": {
  "kernelspec": {
   "display_name": "Python 3 (ipykernel)",
   "language": "python",
   "name": "python3"
  },
  "language_info": {
   "codemirror_mode": {
    "name": "ipython",
    "version": 3
   },
   "file_extension": ".py",
   "mimetype": "text/x-python",
   "name": "python",
   "nbconvert_exporter": "python",
   "pygments_lexer": "ipython3",
   "version": "3.11.6"
  }
 },
 "nbformat": 4,
 "nbformat_minor": 5
}
